{
 "cells": [
  {
   "cell_type": "markdown",
   "id": "a780182f-0e33-4110-9d49-d6bab68aa73a",
   "metadata": {},
   "source": [
    "0. Download and unzip:"
   ]
  },
  {
   "cell_type": "markdown",
   "id": "567cb7d7-de8f-492c-a0a3-dc0205e614bb",
   "metadata": {},
   "source": [
    "1. Use the glob() function in the glob library to...\n",
    "write a program to build a list of continents based on the file nams in the dataset (don't use the continet column)"
   ]
  },
  {
   "cell_type": "code",
   "execution_count": 4,
   "id": "320c8ff0-ce43-4a6c-8bd2-399d7cf1fa37",
   "metadata": {},
   "outputs": [],
   "source": [
    "import glob as gb"
   ]
  },
  {
   "cell_type": "code",
   "execution_count": 8,
   "id": "4809ef5e-f77c-4be1-8d7d-c7f6e4bab7dc",
   "metadata": {},
   "outputs": [
    {
     "name": "stdout",
     "output_type": "stream",
     "text": [
      "data/gapminder_all.csv\n"
     ]
    }
   ],
   "source": [
    "for data in gb.glob(\"data/gapminder_all.csv\"):"
   ]
  },
  {
   "cell_type": "code",
   "execution_count": null,
   "id": "a495a7bd-6856-472c-9990-d786f3e9ddd4",
   "metadata": {},
   "outputs": [],
   "source": []
  }
 ],
 "metadata": {
  "kernelspec": {
   "display_name": "Python 3 (ipykernel)",
   "language": "python",
   "name": "python3"
  },
  "language_info": {
   "codemirror_mode": {
    "name": "ipython",
    "version": 3
   },
   "file_extension": ".py",
   "mimetype": "text/x-python",
   "name": "python",
   "nbconvert_exporter": "python",
   "pygments_lexer": "ipython3",
   "version": "3.9.13"
  }
 },
 "nbformat": 4,
 "nbformat_minor": 5
}
