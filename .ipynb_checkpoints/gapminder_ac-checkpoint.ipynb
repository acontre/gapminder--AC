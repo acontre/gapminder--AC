{
 "cells": [
  {
   "cell_type": "markdown",
   "id": "a780182f-0e33-4110-9d49-d6bab68aa73a",
   "metadata": {},
   "source": [
    "0. Download and unzip:"
   ]
  },
  {
   "cell_type": "markdown",
   "id": "567cb7d7-de8f-492c-a0a3-dc0205e614bb",
   "metadata": {},
   "source": [
    "1. Write a program"
   ]
  },
  {
   "cell_type": "code",
   "execution_count": null,
   "id": "320c8ff0-ce43-4a6c-8bd2-399d7cf1fa37",
   "metadata": {},
   "outputs": [],
   "source": []
  }
 ],
 "metadata": {
  "kernelspec": {
   "display_name": "Python 3 (ipykernel)",
   "language": "python",
   "name": "python3"
  },
  "language_info": {
   "codemirror_mode": {
    "name": "ipython",
    "version": 3
   },
   "file_extension": ".py",
   "mimetype": "text/x-python",
   "name": "python",
   "nbconvert_exporter": "python",
   "pygments_lexer": "ipython3",
   "version": "3.9.13"
  }
 },
 "nbformat": 4,
 "nbformat_minor": 5
}
